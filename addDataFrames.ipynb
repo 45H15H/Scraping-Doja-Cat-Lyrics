{
 "cells": [
  {
   "cell_type": "code",
   "execution_count": 1,
   "metadata": {},
   "outputs": [],
   "source": [
    "albumURLs = [\"https://genius.com/albums/Doja-cat/Planet-her\",\n",
    "            #  \"https://genius.com/albums/Doja-cat/Planet-her-deluxe\",\n",
    "             \"https://genius.com/albums/Doja-cat/Streets-remixes\",\n",
    "            #  \"https://genius.com/albums/Doja-cat/Hot-pink-japan-version\",\n",
    "             \"https://genius.com/albums/Doja-cat/Hot-pink\",\n",
    "            #  \"https://genius.com/albums/Doja-cat/Amala-deluxe-version\",\n",
    "             \"https://genius.com/albums/Doja-cat/Amala\",\n",
    "             \"https://genius.com/albums/Doja-cat/Purrr-ep\"]"
   ]
  },
  {
   "cell_type": "code",
   "execution_count": 2,
   "metadata": {},
   "outputs": [],
   "source": [
    "from bs4 import BeautifulSoup\n",
    "import lxml\n",
    "import requests"
   ]
  },
  {
   "cell_type": "code",
   "execution_count": 3,
   "metadata": {},
   "outputs": [],
   "source": [
    "lyrics_links_titles = []\n",
    "for _ in range(len(albumURLs)):\n",
    "\n",
    "    link = albumURLs[_]\n",
    "    html = requests.get(link).text\n",
    "    soup = BeautifulSoup(html, 'lxml')\n",
    "\n",
    "    s = soup.find_all(\"div\", class_ = \"chart_row-content\")\n",
    "\n",
    "    lyrics_links = [x.find('a', href = True)['href'] for x in s]\n",
    "\n",
    "    for x in range(len(lyrics_links)):\n",
    "        l = lyrics_links[x]\n",
    "        lyrics_links_titles.append(l)\n",
    "    "
   ]
  },
  {
   "cell_type": "code",
   "execution_count": 6,
   "metadata": {},
   "outputs": [],
   "source": [
    "file_names = []\n",
    "for a in lyrics_links_titles: \n",
    "    file = r\"\" + a[28:] + \".csv\"\n",
    "    file_names.append(file)"
   ]
  },
  {
   "cell_type": "code",
   "execution_count": 7,
   "metadata": {},
   "outputs": [],
   "source": [
    "import pandas as pd"
   ]
  },
  {
   "cell_type": "code",
   "execution_count": 18,
   "metadata": {},
   "outputs": [],
   "source": [
    "frames = []\n",
    "for i in range(len(file_names)):\n",
    "    frames.append(pd.read_csv(file_names[i], index_col=0))\n"
   ]
  },
  {
   "cell_type": "code",
   "execution_count": 21,
   "metadata": {},
   "outputs": [],
   "source": [
    "df3 = pd.concat(frames)"
   ]
  },
  {
   "cell_type": "code",
   "execution_count": 22,
   "metadata": {},
   "outputs": [
    {
     "data": {
      "text/html": [
       "<div>\n",
       "<style scoped>\n",
       "    .dataframe tbody tr th:only-of-type {\n",
       "        vertical-align: middle;\n",
       "    }\n",
       "\n",
       "    .dataframe tbody tr th {\n",
       "        vertical-align: top;\n",
       "    }\n",
       "\n",
       "    .dataframe thead th {\n",
       "        text-align: right;\n",
       "    }\n",
       "</style>\n",
       "<table border=\"1\" class=\"dataframe\">\n",
       "  <thead>\n",
       "    <tr style=\"text-align: right;\">\n",
       "      <th></th>\n",
       "      <th>Track Number</th>\n",
       "      <th>Track Title</th>\n",
       "      <th>Album Name</th>\n",
       "      <th>Year Released</th>\n",
       "      <th>Lyric</th>\n",
       "    </tr>\n",
       "  </thead>\n",
       "  <tbody>\n",
       "    <tr>\n",
       "      <th>0</th>\n",
       "      <td>1</td>\n",
       "      <td>Woman</td>\n",
       "      <td>Planet Her</td>\n",
       "      <td>2021</td>\n",
       "      <td>b'Hey, woman\\n'</td>\n",
       "    </tr>\n",
       "    <tr>\n",
       "      <th>1</th>\n",
       "      <td>1</td>\n",
       "      <td>Woman</td>\n",
       "      <td>Planet Her</td>\n",
       "      <td>2021</td>\n",
       "      <td>b'Hey, woman\\n'</td>\n",
       "    </tr>\n",
       "    <tr>\n",
       "      <th>2</th>\n",
       "      <td>1</td>\n",
       "      <td>Woman</td>\n",
       "      <td>Planet Her</td>\n",
       "      <td>2021</td>\n",
       "      <td>b'Woman\\n'</td>\n",
       "    </tr>\n",
       "    <tr>\n",
       "      <th>3</th>\n",
       "      <td>1</td>\n",
       "      <td>Woman</td>\n",
       "      <td>Planet Her</td>\n",
       "      <td>2021</td>\n",
       "      <td>b'Let me be your woman\\n'</td>\n",
       "    </tr>\n",
       "    <tr>\n",
       "      <th>4</th>\n",
       "      <td>1</td>\n",
       "      <td>Woman</td>\n",
       "      <td>Planet Her</td>\n",
       "      <td>2021</td>\n",
       "      <td>b'Woman, woman, woman (\\n'</td>\n",
       "    </tr>\n",
       "  </tbody>\n",
       "</table>\n",
       "</div>"
      ],
      "text/plain": [
       "   Track Number Track Title  Album Name  Year Released  \\\n",
       "0             1       Woman  Planet Her           2021   \n",
       "1             1       Woman  Planet Her           2021   \n",
       "2             1       Woman  Planet Her           2021   \n",
       "3             1       Woman  Planet Her           2021   \n",
       "4             1       Woman  Planet Her           2021   \n",
       "\n",
       "                        Lyric  \n",
       "0             b'Hey, woman\\n'  \n",
       "1             b'Hey, woman\\n'  \n",
       "2                  b'Woman\\n'  \n",
       "3   b'Let me be your woman\\n'  \n",
       "4  b'Woman, woman, woman (\\n'  "
      ]
     },
     "execution_count": 22,
     "metadata": {},
     "output_type": "execute_result"
    }
   ],
   "source": [
    "df3.head()"
   ]
  },
  {
   "cell_type": "code",
   "execution_count": null,
   "metadata": {},
   "outputs": [],
   "source": []
  }
 ],
 "metadata": {
  "kernelspec": {
   "display_name": "Scraping-Doja-Cat-Lyrics",
   "language": "python",
   "name": "python3"
  },
  "language_info": {
   "codemirror_mode": {
    "name": "ipython",
    "version": 3
   },
   "file_extension": ".py",
   "mimetype": "text/x-python",
   "name": "python",
   "nbconvert_exporter": "python",
   "pygments_lexer": "ipython3",
   "version": "3.10.4"
  },
  "orig_nbformat": 4,
  "vscode": {
   "interpreter": {
    "hash": "ea296ab7cd7946e38be6021fab5e9d18269db1b3b5f2bb79167bedcb3f5aa5f7"
   }
  }
 },
 "nbformat": 4,
 "nbformat_minor": 2
}
