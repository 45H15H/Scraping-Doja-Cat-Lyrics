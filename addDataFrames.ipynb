{
 "cells": [
  {
   "cell_type": "code",
   "execution_count": 1,
   "metadata": {},
   "outputs": [],
   "source": [
    "albumURLs = [\"https://genius.com/albums/Doja-cat/Planet-her\",\n",
    "            #  \"https://genius.com/albums/Doja-cat/Planet-her-deluxe\",\n",
    "             \"https://genius.com/albums/Doja-cat/Streets-remixes\",\n",
    "            #  \"https://genius.com/albums/Doja-cat/Hot-pink-japan-version\",\n",
    "             \"https://genius.com/albums/Doja-cat/Hot-pink\",\n",
    "            #  \"https://genius.com/albums/Doja-cat/Amala-deluxe-version\",\n",
    "             \"https://genius.com/albums/Doja-cat/Amala\",\n",
    "             \"https://genius.com/albums/Doja-cat/Purrr-ep\"]"
   ]
  },
  {
   "cell_type": "code",
   "execution_count": 2,
   "metadata": {},
   "outputs": [],
   "source": [
    "from bs4 import BeautifulSoup\n",
    "import lxml\n",
    "import requests"
   ]
  },
  {
   "cell_type": "code",
   "execution_count": 3,
   "metadata": {},
   "outputs": [],
   "source": [
    "lyrics_links_titles = []\n",
    "for _ in range(len(albumURLs)):\n",
    "\n",
    "    link = albumURLs[_]\n",
    "    html = requests.get(link).text\n",
    "    soup = BeautifulSoup(html, 'lxml')\n",
    "\n",
    "    s = soup.find_all(\"div\", class_ = \"chart_row-content\")\n",
    "\n",
    "    lyrics_links = [x.find('a', href = True)['href'] for x in s]\n",
    "\n",
    "    for x in range(len(lyrics_links)):\n",
    "        l = lyrics_links[x]\n",
    "        lyrics_links_titles.append(l)\n",
    "    "
   ]
  },
  {
   "cell_type": "code",
   "execution_count": 6,
   "metadata": {},
   "outputs": [],
   "source": [
    "file_names = []\n",
    "for a in lyrics_links_titles: \n",
    "    file = r\"\" + a[28:] + \".csv\"\n",
    "    file_names.append(file)"
   ]
  },
  {
   "cell_type": "code",
   "execution_count": 7,
   "metadata": {},
   "outputs": [],
   "source": [
    "import pandas as pd"
   ]
  },
  {
   "cell_type": "code",
   "execution_count": 18,
   "metadata": {},
   "outputs": [],
   "source": [
    "frames = []\n",
    "for i in range(len(file_names)):\n",
    "    frames.append(pd.read_csv(file_names[i], index_col=0))\n"
   ]
  },
  {
   "cell_type": "code",
   "execution_count": 21,
   "metadata": {},
   "outputs": [],
   "source": [
    "df3 = pd.concat(frames)"
   ]
  },
  {
   "cell_type": "code",
   "execution_count": 23,
   "metadata": {},
   "outputs": [],
   "source": [
    "df3.to_csv(\"Doja_Cat_lyrics_all.csv\")"
   ]
  },
  {
   "cell_type": "code",
   "execution_count": null,
   "metadata": {},
   "outputs": [],
   "source": []
  }
 ],
 "metadata": {
  "kernelspec": {
   "display_name": "Scraping-Doja-Cat-Lyrics",
   "language": "python",
   "name": "python3"
  },
  "language_info": {
   "codemirror_mode": {
    "name": "ipython",
    "version": 3
   },
   "file_extension": ".py",
   "mimetype": "text/x-python",
   "name": "python",
   "nbconvert_exporter": "python",
   "pygments_lexer": "ipython3",
   "version": "3.10.4"
  },
  "orig_nbformat": 4,
  "vscode": {
   "interpreter": {
    "hash": "ea296ab7cd7946e38be6021fab5e9d18269db1b3b5f2bb79167bedcb3f5aa5f7"
   }
  }
 },
 "nbformat": 4,
 "nbformat_minor": 2
}
