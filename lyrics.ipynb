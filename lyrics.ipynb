{
 "cells": [
  {
   "cell_type": "code",
   "execution_count": 1,
   "metadata": {},
   "outputs": [],
   "source": [
    "albumURLs = [\"https://genius.com/albums/Doja-cat/Planet-her\",\n",
    "            #  \"https://genius.com/albums/Doja-cat/Planet-her-deluxe\",\n",
    "             \"https://genius.com/albums/Doja-cat/Streets-remixes\",\n",
    "            #  \"https://genius.com/albums/Doja-cat/Hot-pink-japan-version\",\n",
    "             \"https://genius.com/albums/Doja-cat/Hot-pink\",\n",
    "            #  \"https://genius.com/albums/Doja-cat/Amala-deluxe-version\",\n",
    "             \"https://genius.com/albums/Doja-cat/Amala\",\n",
    "             \"https://genius.com/albums/Doja-cat/Purrr-ep\"]"
   ]
  },
  {
   "cell_type": "code",
   "execution_count": 2,
   "metadata": {},
   "outputs": [],
   "source": [
    "from bs4 import BeautifulSoup\n",
    "import lxml\n",
    "import requests"
   ]
  },
  {
   "cell_type": "code",
   "execution_count": 8,
   "metadata": {},
   "outputs": [],
   "source": [
    "lyrics_links_titles = []\n",
    "for _ in range(len(albumURLs)):\n",
    "\n",
    "    link = albumURLs[_]\n",
    "    html = requests.get(link).text\n",
    "    soup = BeautifulSoup(html, 'lxml')\n",
    "\n",
    "    s = soup.find_all(\"div\", class_ = \"chart_row-content\")\n",
    "\n",
    "    lyrics_links = [x.find('a', href = True)['href'] for x in s]\n",
    "\n",
    "    for x in range(len(lyrics_links)):\n",
    "        l = lyrics_links[x]\n",
    "        lyrics_links_titles.append(l)\n",
    "        html2 = requests.get(l).text\n",
    "        soup2 = BeautifulSoup(html2, 'lxml')\n",
    "        lyrics = soup2.find_all('div', class_ = \"Lyrics__Container-sc-1ynbvzw-6 YYrds\")\n",
    "        # for y in lyrics:\n",
    "        #     print(y.next_sibling)\n",
    "\n",
    "        for y in lyrics:\n",
    "            z = y.find_all('br')\n",
    "            L = []\n",
    "            for zz in z:\n",
    "                L.append(zz.next.text)\n",
    "            # print(L)\n",
    "            file = r\"\" + l[28:] + \".txt\"\n",
    "            with open(file, 'ab') as f: # don't just write append\n",
    "                for item in L:\n",
    "                    f.write(item.encode(\"utf-8\"))\n",
    "                    f.write(\"\\n\".encode('utf-8'))\n",
    "                # print(zz.next.text)\n",
    "        # print(\"\\n\\n\")"
   ]
  },
  {
   "cell_type": "code",
   "execution_count": null,
   "metadata": {},
   "outputs": [],
   "source": [
    "# couldn't automate data cleaning\n"
   ]
  },
  {
   "cell_type": "code",
   "execution_count": 4,
   "metadata": {},
   "outputs": [
    {
     "data": {
      "text/plain": [
       "['lyrics--woman-lyrics.txt',\n",
       " 'lyrics--naked-lyrics.txt',\n",
       " 'lyrics--payday-lyrics.txt',\n",
       " 'lyrics--get-into-it-yuh-lyrics.txt',\n",
       " 'lyrics--need-to-know-lyrics.txt',\n",
       " 'lyrics--i-dont-do-drugs-lyrics.txt',\n",
       " 'lyrics--love-to-dream-lyrics.txt',\n",
       " 'lyrics--you-right-lyrics.txt',\n",
       " 'lyrics--been-like-this-lyrics.txt',\n",
       " 'lyrics--options-lyrics.txt',\n",
       " 'lyrics--aint-shit-lyrics.txt',\n",
       " 'lyrics--imagine-lyrics.txt',\n",
       " 'lyrics--alone-lyrics.txt',\n",
       " 'lyrics--kiss-me-more-lyrics.txt',\n",
       " 'lyrics--streets-disclosure-remix-lyrics.txt',\n",
       " 'lyrics--streets-dj-sliink-remix-lyrics.txt',\n",
       " 'lyrics--streets-lazerbeak-remix-lyrics.txt',\n",
       " 'lyrics--streets-party-favor-remix-lyrics.txt',\n",
       " 'lyrics--streets-ape-drums-remix-lyrics.txt',\n",
       " 'lyrics--cyber-sex-lyrics.txt',\n",
       " 'lyrics--wont-bite-lyrics.txt',\n",
       " 'lyrics--rules-lyrics.txt',\n",
       " 'lyrics--bottom-bitch-lyrics.txt',\n",
       " 'lyrics--say-so-lyrics.txt',\n",
       " 'lyrics--like-that-lyrics.txt',\n",
       " 'lyrics--talk-dirty-lyrics.txt',\n",
       " 'lyrics--addiction-lyrics.txt',\n",
       " 'lyrics--streets-lyrics.txt',\n",
       " 'lyrics--shine-lyrics.txt',\n",
       " 'lyrics--better-than-me-lyrics.txt',\n",
       " 'lyrics--and-tyga-juicy-lyrics.txt',\n",
       " 'lyrics--go-to-town-lyrics.txt',\n",
       " 'lyrics--cookie-jar-lyrics.txt',\n",
       " 'lyrics--roll-with-us-lyrics.txt',\n",
       " 'lyrics--wine-pon-you-lyrics.txt',\n",
       " 'lyrics--fancy-lyrics.txt',\n",
       " 'lyrics--wild-beach-lyrics.txt',\n",
       " 'lyrics--morning-light-lyrics.txt',\n",
       " 'lyrics--candy-lyrics.txt',\n",
       " 'lyrics--game-lyrics.txt',\n",
       " 'lyrics--casual-lyrics.txt',\n",
       " 'lyrics--down-low-lyrics.txt',\n",
       " 'lyrics--body-language-lyrics.txt',\n",
       " 'lyrics--all-nighter-lyrics.txt',\n",
       " 'lyrics--beautiful-lyrics.txt',\n",
       " 'lyrics--nunchucks-lyrics.txt',\n",
       " 'lyrics--so-high-lyrics.txt',\n",
       " 'lyrics--no-police-lyrics.txt',\n",
       " 'lyrics--control-lyrics.txt']"
      ]
     },
     "execution_count": 4,
     "metadata": {},
     "output_type": "execute_result"
    }
   ],
   "source": [
    "# now cleaning the data\n",
    "# i think I will open each file and fix it\n",
    "file_names = []\n",
    "for a in lyrics_links_titles: \n",
    "    file = r\"lyrics-\" + a[27:] + \".txt\"\n",
    "    file_names.append(file)\n",
    "file_names"
   ]
  },
  {
   "cell_type": "code",
   "execution_count": 7,
   "metadata": {},
   "outputs": [
    {
     "ename": "TypeError",
     "evalue": "cannot use a string pattern on a bytes-like object",
     "output_type": "error",
     "traceback": [
      "\u001b[1;31m---------------------------------------------------------------------------\u001b[0m",
      "\u001b[1;31mTypeError\u001b[0m                                 Traceback (most recent call last)",
      "\u001b[1;32md:\\DataScience\\Doja Cat Lyric Analysis\\lyrics.ipynb Cell 5\u001b[0m in \u001b[0;36m<cell line: 3>\u001b[1;34m()\u001b[0m\n\u001b[0;32m      <a href='vscode-notebook-cell:/d%3A/DataScience/Doja%20Cat%20Lyric%20Analysis/lyrics.ipynb#W4sZmlsZQ%3D%3D?line=8'>9</a>\u001b[0m file \u001b[39m=\u001b[39m f\u001b[39m.\u001b[39mread()\n\u001b[0;32m     <a href='vscode-notebook-cell:/d%3A/DataScience/Doja%20Cat%20Lyric%20Analysis/lyrics.ipynb#W4sZmlsZQ%3D%3D?line=10'>11</a>\u001b[0m \u001b[39m# Replacing the pattern with the string\u001b[39;00m\n\u001b[0;32m     <a href='vscode-notebook-cell:/d%3A/DataScience/Doja%20Cat%20Lyric%20Analysis/lyrics.ipynb#W4sZmlsZQ%3D%3D?line=11'>12</a>\u001b[0m \u001b[39m# in the file data\u001b[39;00m\n\u001b[1;32m---> <a href='vscode-notebook-cell:/d%3A/DataScience/Doja%20Cat%20Lyric%20Analysis/lyrics.ipynb#W4sZmlsZQ%3D%3D?line=12'>13</a>\u001b[0m file \u001b[39m=\u001b[39m re\u001b[39m.\u001b[39;49msub(regex, \u001b[39m\"\u001b[39;49m\u001b[39m_________\u001b[39;49m\u001b[39m\"\u001b[39;49m\u001b[39m.\u001b[39;49mencode(\u001b[39m'\u001b[39;49m\u001b[39mutf-8\u001b[39;49m\u001b[39m'\u001b[39;49m), file)\n\u001b[0;32m     <a href='vscode-notebook-cell:/d%3A/DataScience/Doja%20Cat%20Lyric%20Analysis/lyrics.ipynb#W4sZmlsZQ%3D%3D?line=14'>15</a>\u001b[0m \u001b[39m# Setting the position to the top\u001b[39;00m\n\u001b[0;32m     <a href='vscode-notebook-cell:/d%3A/DataScience/Doja%20Cat%20Lyric%20Analysis/lyrics.ipynb#W4sZmlsZQ%3D%3D?line=15'>16</a>\u001b[0m \u001b[39m# of the page to insert data\u001b[39;00m\n\u001b[0;32m     <a href='vscode-notebook-cell:/d%3A/DataScience/Doja%20Cat%20Lyric%20Analysis/lyrics.ipynb#W4sZmlsZQ%3D%3D?line=16'>17</a>\u001b[0m f\u001b[39m.\u001b[39mseek(\u001b[39m0\u001b[39m)\n",
      "File \u001b[1;32m~\\AppData\\Local\\Programs\\Python\\Python310\\lib\\re.py:209\u001b[0m, in \u001b[0;36msub\u001b[1;34m(pattern, repl, string, count, flags)\u001b[0m\n\u001b[0;32m    202\u001b[0m \u001b[39mdef\u001b[39;00m \u001b[39msub\u001b[39m(pattern, repl, string, count\u001b[39m=\u001b[39m\u001b[39m0\u001b[39m, flags\u001b[39m=\u001b[39m\u001b[39m0\u001b[39m):\n\u001b[0;32m    203\u001b[0m     \u001b[39m\"\"\"Return the string obtained by replacing the leftmost\u001b[39;00m\n\u001b[0;32m    204\u001b[0m \u001b[39m    non-overlapping occurrences of the pattern in string by the\u001b[39;00m\n\u001b[0;32m    205\u001b[0m \u001b[39m    replacement repl.  repl can be either a string or a callable;\u001b[39;00m\n\u001b[0;32m    206\u001b[0m \u001b[39m    if a string, backslash escapes in it are processed.  If it is\u001b[39;00m\n\u001b[0;32m    207\u001b[0m \u001b[39m    a callable, it's passed the Match object and must return\u001b[39;00m\n\u001b[0;32m    208\u001b[0m \u001b[39m    a replacement string to be used.\"\"\"\u001b[39;00m\n\u001b[1;32m--> 209\u001b[0m     \u001b[39mreturn\u001b[39;00m _compile(pattern, flags)\u001b[39m.\u001b[39;49msub(repl, string, count)\n",
      "\u001b[1;31mTypeError\u001b[0m: cannot use a string pattern on a bytes-like object"
     ]
    }
   ],
   "source": [
    "import re\n",
    "regex = r\"[a-z]+[A-Z]+\"\n",
    "for T in range(len(file_names)):\n",
    "        file_name = file_names[T]\n",
    "        with open(file_name,'rb+') as f:\n",
    "  \n",
    "                # Reading the file data and store\n",
    "                # it in a file variable\n",
    "                file = f.read()\n",
    "\n",
    "                # Replacing the pattern with the string\n",
    "                # in the file data\n",
    "                file = re.sub(regex, \"_________\".encode('utf-8'), file)\n",
    "        \n",
    "                # Setting the position to the top\n",
    "                # of the page to insert data\n",
    "                f.seek(0)\n",
    "\n",
    "                # Writing replaced data in the file\n",
    "                f.write(file)\n",
    "        \n",
    "                # Truncating the file size\n",
    "                f.truncate()"
   ]
  },
  {
   "cell_type": "code",
   "execution_count": null,
   "metadata": {},
   "outputs": [],
   "source": []
  }
 ],
 "metadata": {
  "kernelspec": {
   "display_name": "DataScience",
   "language": "python",
   "name": "python3"
  },
  "language_info": {
   "codemirror_mode": {
    "name": "ipython",
    "version": 3
   },
   "file_extension": ".py",
   "mimetype": "text/x-python",
   "name": "python",
   "nbconvert_exporter": "python",
   "pygments_lexer": "ipython3",
   "version": "3.10.4 (tags/v3.10.4:9d38120, Mar 23 2022, 23:13:41) [MSC v.1929 64 bit (AMD64)]"
  },
  "orig_nbformat": 4,
  "vscode": {
   "interpreter": {
    "hash": "f17eadef137111eb926cacfd2daf62a61661c2f57a4cf2576d3c3011dccb992d"
   }
  }
 },
 "nbformat": 4,
 "nbformat_minor": 2
}
