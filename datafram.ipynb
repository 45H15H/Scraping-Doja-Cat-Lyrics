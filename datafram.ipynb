{
 "cells": [
  {
   "cell_type": "code",
   "execution_count": 1,
   "metadata": {},
   "outputs": [],
   "source": [
    "albumURLs = [\"https://genius.com/albums/Doja-cat/Planet-her\",\n",
    "            #  \"https://genius.com/albums/Doja-cat/Planet-her-deluxe\",\n",
    "             \"https://genius.com/albums/Doja-cat/Streets-remixes\",\n",
    "            #  \"https://genius.com/albums/Doja-cat/Hot-pink-japan-version\",\n",
    "             \"https://genius.com/albums/Doja-cat/Hot-pink\",\n",
    "            #  \"https://genius.com/albums/Doja-cat/Amala-deluxe-version\",\n",
    "             \"https://genius.com/albums/Doja-cat/Amala\",\n",
    "             \"https://genius.com/albums/Doja-cat/Purrr-ep\"]"
   ]
  },
  {
   "cell_type": "code",
   "execution_count": 2,
   "metadata": {},
   "outputs": [],
   "source": [
    "from bs4 import BeautifulSoup\n",
    "import lxml\n",
    "import requests\n",
    "\n",
    "import pandas as pd"
   ]
  },
  {
   "cell_type": "code",
   "execution_count": 3,
   "metadata": {},
   "outputs": [
    {
     "data": {
      "text/html": [
       "<div>\n",
       "<style scoped>\n",
       "    .dataframe tbody tr th:only-of-type {\n",
       "        vertical-align: middle;\n",
       "    }\n",
       "\n",
       "    .dataframe tbody tr th {\n",
       "        vertical-align: top;\n",
       "    }\n",
       "\n",
       "    .dataframe thead th {\n",
       "        text-align: right;\n",
       "    }\n",
       "</style>\n",
       "<table border=\"1\" class=\"dataframe\">\n",
       "  <thead>\n",
       "    <tr style=\"text-align: right;\">\n",
       "      <th></th>\n",
       "      <th>Track Number</th>\n",
       "      <th>Track Title</th>\n",
       "      <th>Album Name</th>\n",
       "      <th>Year Released</th>\n",
       "    </tr>\n",
       "  </thead>\n",
       "  <tbody>\n",
       "  </tbody>\n",
       "</table>\n",
       "</div>"
      ],
      "text/plain": [
       "Empty DataFrame\n",
       "Columns: [Track Number, Track Title, Album Name, Year Released]\n",
       "Index: []"
      ]
     },
     "execution_count": 3,
     "metadata": {},
     "output_type": "execute_result"
    }
   ],
   "source": [
    "doja = pd.DataFrame(columns=['Track Number', 'Track Title', 'Album Name', 'Year Released'])\n",
    "doja"
   ]
  },
  {
   "cell_type": "code",
   "execution_count": 4,
   "metadata": {},
   "outputs": [],
   "source": [
    "for _ in range(len(albumURLs)):\n",
    "\n",
    "    link = albumURLs[_]\n",
    "    html = requests.get(link).text\n",
    "    soup = BeautifulSoup(html, 'lxml')\n",
    "\n",
    "    s = soup.find_all(\"div\", class_ = \"chart_row-content\")\n",
    "\n",
    "    album = soup.find(\"div\", class_ = \"header_with_cover_art-primary_info\").h1.text.strip()\n",
    "\n",
    "    year = soup.find(\"div\", class_ = \"metadata_unit\").text[-4:]\n",
    "\n",
    "    trackList = [(j.strip()[:-6]).strip().replace(\"\\xa0\", \" \") for j in [i.text for i in s]]\n",
    "\n",
    "    for t, n in zip(trackList, range(len(trackList))):\n",
    "        doja.loc[len(doja.index)] = [n + 1, t, album, year]\n",
    "    "
   ]
  },
  {
   "cell_type": "code",
   "execution_count": 6,
   "metadata": {},
   "outputs": [
    {
     "data": {
      "text/html": [
       "<div>\n",
       "<style scoped>\n",
       "    .dataframe tbody tr th:only-of-type {\n",
       "        vertical-align: middle;\n",
       "    }\n",
       "\n",
       "    .dataframe tbody tr th {\n",
       "        vertical-align: top;\n",
       "    }\n",
       "\n",
       "    .dataframe thead th {\n",
       "        text-align: right;\n",
       "    }\n",
       "</style>\n",
       "<table border=\"1\" class=\"dataframe\">\n",
       "  <thead>\n",
       "    <tr style=\"text-align: right;\">\n",
       "      <th></th>\n",
       "      <th>Track Number</th>\n",
       "      <th>Track Title</th>\n",
       "      <th>Album Name</th>\n",
       "      <th>Year Released</th>\n",
       "    </tr>\n",
       "  </thead>\n",
       "  <tbody>\n",
       "    <tr>\n",
       "      <th>0</th>\n",
       "      <td>1</td>\n",
       "      <td>Woman</td>\n",
       "      <td>Planet Her</td>\n",
       "      <td>2021</td>\n",
       "    </tr>\n",
       "    <tr>\n",
       "      <th>1</th>\n",
       "      <td>2</td>\n",
       "      <td>Naked</td>\n",
       "      <td>Planet Her</td>\n",
       "      <td>2021</td>\n",
       "    </tr>\n",
       "    <tr>\n",
       "      <th>2</th>\n",
       "      <td>3</td>\n",
       "      <td>Payday (Ft. Young Thug)</td>\n",
       "      <td>Planet Her</td>\n",
       "      <td>2021</td>\n",
       "    </tr>\n",
       "    <tr>\n",
       "      <th>3</th>\n",
       "      <td>4</td>\n",
       "      <td>Get Into It (Yuh)</td>\n",
       "      <td>Planet Her</td>\n",
       "      <td>2021</td>\n",
       "    </tr>\n",
       "    <tr>\n",
       "      <th>4</th>\n",
       "      <td>5</td>\n",
       "      <td>Need to Know</td>\n",
       "      <td>Planet Her</td>\n",
       "      <td>2021</td>\n",
       "    </tr>\n",
       "  </tbody>\n",
       "</table>\n",
       "</div>"
      ],
      "text/plain": [
       "   Track Number              Track Title  Album Name Year Released\n",
       "0             1                    Woman  Planet Her          2021\n",
       "1             2                    Naked  Planet Her          2021\n",
       "2             3  Payday (Ft. Young Thug)  Planet Her          2021\n",
       "3             4        Get Into It (Yuh)  Planet Her          2021\n",
       "4             5             Need to Know  Planet Her          2021"
      ]
     },
     "execution_count": 6,
     "metadata": {},
     "output_type": "execute_result"
    }
   ],
   "source": [
    "doja.head()"
   ]
  },
  {
   "cell_type": "code",
   "execution_count": 7,
   "metadata": {},
   "outputs": [],
   "source": [
    "doja.to_csv('Doja_Cat_lyrics_all.csv')"
   ]
  }
 ],
 "metadata": {
  "kernelspec": {
   "display_name": "DataScience",
   "language": "python",
   "name": "python3"
  },
  "language_info": {
   "codemirror_mode": {
    "name": "ipython",
    "version": 3
   },
   "file_extension": ".py",
   "mimetype": "text/x-python",
   "name": "python",
   "nbconvert_exporter": "python",
   "pygments_lexer": "ipython3",
   "version": "3.10.4 (tags/v3.10.4:9d38120, Mar 23 2022, 23:13:41) [MSC v.1929 64 bit (AMD64)]"
  },
  "orig_nbformat": 4,
  "vscode": {
   "interpreter": {
    "hash": "f17eadef137111eb926cacfd2daf62a61661c2f57a4cf2576d3c3011dccb992d"
   }
  }
 },
 "nbformat": 4,
 "nbformat_minor": 2
}
